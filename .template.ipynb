{
 "cells": [
  {
   "cell_type": "markdown",
   "metadata": {
    "pycharm": {
     "name": "#%% md\n"
    }
   },
   "source": [
    "<img src=\"img/decisionmaking.png\" width=\"400\">\n",
    "\n",
    "# Course title\n",
    "# Lecture XX - Lecture title\n",
    "\n",
    "**Aurélien Nioche**\n",
    "\n",
    "Aalto University"
   ]
  },
  {
   "cell_type": "markdown",
   "metadata": {},
   "source": [
    "## Preamble\n",
    "\n",
    "<!--\n",
    "<img src=\"img/netflix.png\" width=900>\n",
    "-->"
   ]
  },
  {
   "cell_type": "markdown",
   "metadata": {},
   "source": [
    "<div class=\"alert alert-block alert-success\">\n",
    "<h2><img src=\"img/logo/goal.png\" width=20, align=\"left\">&nbsp;Learning objectives</h2>\n",
    "    <br>Learn to:\n",
    "    <ul>\n",
    "        <li>Learn (see <a href=\"#1.-Part-1\" class=\"alert-link\">Section 1</a>);\n",
    "    </ul>\n",
    "</div>"
   ]
  },
  {
   "cell_type": "markdown",
   "metadata": {
    "pycharm": {
     "name": "#%%\n"
    }
   },
   "source": [
    "## Course Overview\n",
    "\n",
    "\n",
    "<img src=\"img/design.png\" width=\"30\" align=\"left\">&nbsp;&nbsp;&nbsp;&nbsp;<span style=\"font-size:2rem; font-weight:bold\"><a href=\"#1.-Part-1\">1. Section 1</a></span>\n",
    "\n",
    "<a href=\"#1.1-Subsection-1.1\">1.1 Subsection 1.1</a>\n",
    "\n",
    "<span style=\"font-size:2rem; font-weight:bold\"><a href=\"#Conclusive-Remarks-and-a-Few-Take-Aways\">Conclusive Remarks and a Few Take Aways</a></span>\n",
    "\n",
    "<span style=\"font-size:2rem; font-weight:bold\"><a href=\"#Additional-material\">Additional material</a></span>"
   ]
  },
  {
   "cell_type": "markdown",
   "metadata": {},
   "source": [
    "## 1. Section 1\n",
    "<a href=\"#Course-Overview\">Course Overview</a>\n",
    "\n",
    "<img src=\"img/design.png\" width=\"300\">\n",
    "\n",
    "<div class=\"alert alert-block alert-success\">\n",
    "<h3><img src=\"img/logo/goal.png\" width=\"20\", align=\"left\">&nbsp;Section Goal</h3>\n",
    "<ul>\n",
    "    <li>How to XXX.\n",
    "    </ul>\n",
    "</div>"
   ]
  },
  {
   "cell_type": "markdown",
   "metadata": {},
   "source": [
    "<img src=\"img/logo/how_to.png\" width=\"25\" align=\"left\">&nbsp;<b>How to do it?</b>\n",
    "\n",
    "Let's take as example:\n",
    "<b><a href=\"https://en.wikipedia.org/wiki/Goal_orientation\">Goal orientation</a></b>"
   ]
  },
  {
   "cell_type": "code",
   "execution_count": 5,
   "metadata": {
    "pycharm": {
     "name": "#%%\n"
    }
   },
   "outputs": [
    {
     "data": {
      "text/plain": [
       "True"
      ]
     },
     "execution_count": 5,
     "metadata": {},
     "output_type": "execute_result"
    }
   ],
   "source": [
    "a = 1 + 2\n",
    "b = 3\n",
    "a == b"
   ]
  },
  {
   "cell_type": "markdown",
   "metadata": {},
   "source": [
    "\\begin{equation}\n",
    "\\forall i: \\sum_{i}^N x_i = x_1 + x_2 + \\cdots + x_n\n",
    "\\end{equation}"
   ]
  },
  {
   "cell_type": "markdown",
   "metadata": {},
   "source": [
    "*Note: For more info, see the <a href=\"#Additional-material\">supplementary section</a>.*"
   ]
  },
  {
   "cell_type": "markdown",
   "metadata": {},
   "source": [
    "---"
   ]
  },
  {
   "cell_type": "markdown",
   "metadata": {},
   "source": [
    "This an another paragraph."
   ]
  },
  {
   "cell_type": "markdown",
   "metadata": {},
   "source": [
    "<div class=\"alert alert-block alert-danger\">\n",
    "<h2><img src=\"img/logo/warning.png\" width=\"20\", align=\"left\">&nbsp;Warning</h2>\n",
    "    <br>You should look to the <a href=\"#Additional-material\" class=\"alert-link\">supplementary</a> for that.</div>"
   ]
  },
  {
   "cell_type": "markdown",
   "metadata": {},
   "source": [
    "## Conclusive Remarks and a Few Takeaways\n",
    "<a href=\"#Course-Overview\">Course Overview</a>\n",
    "\n",
    "<div class=\"alert alert-block alert-success\">\n",
    "<h2><img src=\"img/logo/goal.png\" width=\"20\" align=\"left\">&nbsp;Learning objectives</h2>\n",
    "    <br>Learn by a basic example the elementary rules of decision making modeling, including:\n",
    "    <ul>\n",
    "        <li>How to ... (see <a href=\"#1.-Section-1\" class=\"alert-link\">Section 1</a>)\n",
    "    </ul>\n",
    "</div>\n"
   ]
  },
  {
   "cell_type": "markdown",
   "metadata": {},
   "source": [
    "## Additional material\n",
    "<a href=\"#Course-Overview\">Course Overview</a>"
   ]
  }
 ],
 "metadata": {
  "kernelspec": {
   "display_name": "Python 3",
   "language": "python",
   "name": "python3"
  },
  "language_info": {
   "codemirror_mode": {
    "name": "ipython",
    "version": 3
   },
   "file_extension": ".py",
   "mimetype": "text/x-python",
   "name": "python",
   "nbconvert_exporter": "python",
   "pygments_lexer": "ipython3",
   "version": "3.9.1"
  },
  "toc": {
   "base_numbering": 1,
   "nav_menu": {},
   "number_sections": true,
   "sideBar": true,
   "skip_h1_title": false,
   "title_cell": "Table of Contents",
   "title_sidebar": "Contents",
   "toc_cell": false,
   "toc_position": {},
   "toc_section_display": true,
   "toc_window_display": false
  }
 },
 "nbformat": 4,
 "nbformat_minor": 1
}
